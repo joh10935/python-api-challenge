{
 "cells": [
  {
   "cell_type": "markdown",
   "metadata": {},
   "source": [
    "# WeatherPy\n",
    "----\n",
    "\n",
    "#### Note\n",
    "* Instructions have been included for each segment. You do not have to follow them exactly, but they are included to help you think through the steps."
   ]
  },
  {
   "cell_type": "code",
   "execution_count": 1,
   "metadata": {},
   "outputs": [
    {
     "name": "stdout",
     "output_type": "stream",
     "text": [
      "Requirement already satisfied: citipy in c:\\users\\joe\\anaconda3\\lib\\site-packages (0.0.5)\n",
      "Requirement already satisfied: kdtree>=0.12 in c:\\users\\joe\\anaconda3\\lib\\site-packages (from citipy) (0.16)\n",
      "Note: you may need to restart the kernel to use updated packages.\n"
     ]
    }
   ],
   "source": [
    "pip install citipy"
   ]
  },
  {
   "cell_type": "code",
   "execution_count": 2,
   "metadata": {
    "scrolled": true
   },
   "outputs": [],
   "source": [
    "# Dependencies and Setup\n",
    "import matplotlib.pyplot as plt\n",
    "import pandas as pd\n",
    "import numpy as np\n",
    "import requests\n",
    "import time\n",
    "from scipy.stats import linregress\n",
    "\n",
    "# Import API key\n",
    "from api_keys import weather_api_key\n",
    "\n",
    "# Incorporated citipy to determine city based on latitude and longitude\n",
    "from citipy import citipy\n",
    "\n",
    "# Output File (CSV)\n",
    "output_data_file = \"output_data/cities.csv\"\n",
    "\n",
    "# Range of latitudes and longitudes\n",
    "lat_range = (-90, 90)\n",
    "lng_range = (-180, 180)"
   ]
  },
  {
   "cell_type": "markdown",
   "metadata": {},
   "source": [
    "## Generate Cities List"
   ]
  },
  {
   "cell_type": "code",
   "execution_count": 3,
   "metadata": {},
   "outputs": [
    {
     "data": {
      "text/plain": [
       "615"
      ]
     },
     "execution_count": 3,
     "metadata": {},
     "output_type": "execute_result"
    }
   ],
   "source": [
    "# List for holding lat_lngs and cities\n",
    "lat_lngs = []\n",
    "cities = []\n",
    "\n",
    "# Create a set of random lat and lng combinations\n",
    "lats = np.random.uniform(lat_range[0], lat_range[1], size=1500)\n",
    "lngs = np.random.uniform(lng_range[0], lng_range[1], size=1500)\n",
    "lat_lngs = zip(lats, lngs)\n",
    "\n",
    "# Identify nearest city for each lat, lng combination\n",
    "for lat_lng in lat_lngs:\n",
    "    city = citipy.nearest_city(lat_lng[0], lat_lng[1]).city_name\n",
    "    \n",
    "    # If the city is unique, then add it to a our cities list\n",
    "    if city not in cities:\n",
    "        cities.append(city)\n",
    "\n",
    "# Print the city count to confirm sufficient count\n",
    "len(cities)"
   ]
  },
  {
   "cell_type": "markdown",
   "metadata": {},
   "source": [
    "### Perform API Calls\n",
    "* Perform a weather check on each city using a series of successive API calls.\n",
    "* Include a print log of each city as it'sbeing processed (with the city number and city name).\n"
   ]
  },
  {
   "cell_type": "code",
   "execution_count": 4,
   "metadata": {},
   "outputs": [
    {
     "name": "stdout",
     "output_type": "stream",
     "text": [
      "{'coord': {'lon': 27.9116, 'lat': -33.0153}, 'weather': [{'id': 800, 'main': 'Clear', 'description': 'clear sky', 'icon': '01n'}], 'base': 'stations', 'main': {'temp': 59.94, 'feels_like': 59.49, 'temp_min': 59.94, 'temp_max': 59.94, 'pressure': 1015, 'humidity': 82}, 'visibility': 10000, 'wind': {'speed': 8.05, 'deg': 20}, 'clouds': {'all': 0}, 'dt': 1658860120, 'sys': {'type': 1, 'id': 1912, 'country': 'ZA', 'sunrise': 1658811812, 'sunset': 1658849156}, 'timezone': 7200, 'id': 1006984, 'name': 'East London', 'cod': 200}\n"
     ]
    }
   ],
   "source": [
    "# Create a query URL\n",
    "url = \"http://api.openweathermap.org/data/2.5/weather?\"\n",
    "units = \"imperial\"\n",
    "query_url = f\"{url}appid={weather_api_key}&units={units}&q=\"\n",
    "\n",
    "# Print the response to check\n",
    "response = requests.get(query_url + city).json()\n",
    "print(response)"
   ]
  },
  {
   "cell_type": "code",
   "execution_count": 5,
   "metadata": {},
   "outputs": [
    {
     "name": "stdout",
     "output_type": "stream",
     "text": [
      "Beginning Data Retrieval/n/-----------------------------\n",
      "City Found: Processing Record for butaritari\n",
      "City NOT found: tumannyy\n",
      "City Found: Processing Record for atasu\n",
      "City Found: Processing Record for nikolskoye\n",
      "City Found: Processing Record for airai\n",
      "City Found: Processing Record for east london\n",
      "City NOT found: attawapiskat\n",
      "City Found: Processing Record for buala\n",
      "City Found: Processing Record for ushuaia\n",
      "City Found: Processing Record for iquitos\n",
      "City Found: Processing Record for saint-philippe\n",
      "City Found: Processing Record for sangre grande\n",
      "City Found: Processing Record for hermanus\n",
      "City Found: Processing Record for tiksi\n",
      "City Found: Processing Record for fortuna\n",
      "City Found: Processing Record for kapaa\n",
      "City NOT found: tapaua\n",
      "City Found: Processing Record for hobart\n",
      "City Found: Processing Record for batemans bay\n",
      "City NOT found: meyungs\n",
      "City Found: Processing Record for kishtwar\n",
      "City Found: Processing Record for avera\n",
      "City Found: Processing Record for ojinaga\n",
      "City Found: Processing Record for port elizabeth\n",
      "City Found: Processing Record for cape town\n",
      "City Found: Processing Record for cabo san lucas\n",
      "City Found: Processing Record for victoria\n",
      "City Found: Processing Record for guerrero negro\n",
      "City Found: Processing Record for iqaluit\n",
      "City Found: Processing Record for jamestown\n",
      "City Found: Processing Record for faya\n",
      "City Found: Processing Record for upernavik\n",
      "City Found: Processing Record for chuy\n",
      "City Found: Processing Record for cayenne\n",
      "City Found: Processing Record for punta arenas\n",
      "City Found: Processing Record for coari\n",
      "City NOT found: taolanaro\n",
      "City Found: Processing Record for khasan\n",
      "City Found: Processing Record for carutapera\n",
      "City Found: Processing Record for port alfred\n",
      "City Found: Processing Record for leningradskiy\n",
      "City Found: Processing Record for new norfolk\n",
      "City Found: Processing Record for rikitea\n",
      "City Found: Processing Record for barrow\n",
      "City Found: Processing Record for nanortalik\n",
      "City Found: Processing Record for sao filipe\n",
      "City Found: Processing Record for mataura\n",
      "City Found: Processing Record for nome\n",
      "City Found: Processing Record for brigantine\n",
      "City Found: Processing Record for bluff\n",
      "City NOT found: halalo\n",
      "City Found: Processing Record for clyde river\n",
      "City Found: Processing Record for ondjiva\n",
      "City Found: Processing Record for labuhan\n",
      "City Found: Processing Record for baykit\n",
      "City Found: Processing Record for verkhnevilyuysk\n",
      "City Found: Processing Record for murdochville\n",
      "City NOT found: belushya guba\n",
      "City Found: Processing Record for grindavik\n",
      "City Found: Processing Record for khatanga\n",
      "City Found: Processing Record for yarmouth\n",
      "City Found: Processing Record for margate\n",
      "City Found: Processing Record for yeniseysk\n",
      "City Found: Processing Record for avarua\n",
      "City Found: Processing Record for albany\n",
      "City Found: Processing Record for maneadero\n",
      "City NOT found: nizhneyansk\n",
      "City Found: Processing Record for klyuchi\n",
      "City Found: Processing Record for richards bay\n",
      "City Found: Processing Record for atuona\n",
      "City Found: Processing Record for seybaplaya\n",
      "City Found: Processing Record for vaini\n",
      "City Found: Processing Record for mar del plata\n",
      "City Found: Processing Record for takoradi\n",
      "City Found: Processing Record for yeppoon\n",
      "City Found: Processing Record for deputatskiy\n",
      "City Found: Processing Record for nicolas bravo\n",
      "City Found: Processing Record for sao lourenco do sul\n",
      "City Found: Processing Record for harindanga\n",
      "City Found: Processing Record for busselton\n",
      "City Found: Processing Record for acapulco\n",
      "City Found: Processing Record for longyearbyen\n",
      "City Found: Processing Record for yellowknife\n",
      "City Found: Processing Record for bahir dar\n",
      "City Found: Processing Record for puerto ayora\n",
      "City NOT found: sentyabrskiy\n",
      "City Found: Processing Record for finspang\n",
      "City Found: Processing Record for bredasdorp\n",
      "City Found: Processing Record for sorland\n",
      "City Found: Processing Record for carnarvon\n",
      "City Found: Processing Record for arraial do cabo\n",
      "City Found: Processing Record for saint george\n",
      "City Found: Processing Record for aksarka\n",
      "City Found: Processing Record for luderitz\n",
      "City Found: Processing Record for yarada\n",
      "City Found: Processing Record for tobol\n",
      "City Found: Processing Record for severka\n",
      "City NOT found: appiano\n",
      "City Found: Processing Record for shalakusha\n",
      "City Found: Processing Record for bagdarin\n",
      "City Found: Processing Record for chatellerault\n",
      "City Found: Processing Record for georgetown\n",
      "City Found: Processing Record for aklavik\n",
      "City Found: Processing Record for maragogi\n",
      "City Found: Processing Record for ribeira grande\n",
      "City Found: Processing Record for preobrazheniye\n",
      "City Found: Processing Record for qaanaaq\n",
      "City Found: Processing Record for atlantic beach\n",
      "City Found: Processing Record for petropavlovsk-kamchatskiy\n",
      "City Found: Processing Record for benghazi\n",
      "City Found: Processing Record for te anau\n",
      "City Found: Processing Record for dikson\n",
      "City Found: Processing Record for ilulissat\n",
      "City Found: Processing Record for knysna\n",
      "City Found: Processing Record for severo-kurilsk\n",
      "City Found: Processing Record for touros\n",
      "City Found: Processing Record for klaksvik\n",
      "City Found: Processing Record for varhaug\n",
      "City Found: Processing Record for wau\n",
      "City Found: Processing Record for lunglei\n",
      "City Found: Processing Record for thompson\n",
      "City Found: Processing Record for saskylakh\n",
      "City Found: Processing Record for pangkalanbuun\n",
      "City Found: Processing Record for zhezkazgan\n",
      "City Found: Processing Record for waingapu\n",
      "City Found: Processing Record for chimbote\n",
      "City Found: Processing Record for constitucion\n",
      "City Found: Processing Record for nikel\n",
      "City Found: Processing Record for cibeureum\n",
      "City Found: Processing Record for kuybyshevo\n",
      "City Found: Processing Record for fayetteville\n",
      "City Found: Processing Record for belyy yar\n",
      "City Found: Processing Record for glenwood springs\n",
      "City Found: Processing Record for shitanjing\n",
      "City Found: Processing Record for teguldet\n",
      "City Found: Processing Record for cidreira\n",
      "City Found: Processing Record for kamenka\n",
      "City Found: Processing Record for tuktoyaktuk\n",
      "City Found: Processing Record for lac du bonnet\n",
      "City Found: Processing Record for riviere-au-renard\n",
      "City Found: Processing Record for rochester\n",
      "City Found: Processing Record for bethel\n",
      "City Found: Processing Record for castro\n",
      "City Found: Processing Record for kavieng\n",
      "City Found: Processing Record for mount isa\n",
      "City Found: Processing Record for ambilobe\n",
      "City Found: Processing Record for ryotsu\n",
      "City Found: Processing Record for kirishi\n",
      "City Found: Processing Record for micheweni\n",
      "City Found: Processing Record for ippy\n",
      "City Found: Processing Record for nioro\n",
      "City Found: Processing Record for moose factory\n",
      "City Found: Processing Record for champerico\n",
      "City Found: Processing Record for maltahohe\n",
      "City NOT found: kazalinsk\n",
      "City Found: Processing Record for gonen\n",
      "City Found: Processing Record for ponta do sol\n",
      "City Found: Processing Record for kaitangata\n",
      "City Found: Processing Record for saldanha\n",
      "City Found: Processing Record for creel\n",
      "City Found: Processing Record for norman wells\n",
      "City Found: Processing Record for rocha\n",
      "City NOT found: hvammstangi\n",
      "City Found: Processing Record for prado\n",
      "City Found: Processing Record for kendari\n",
      "City Found: Processing Record for aswan\n",
      "City NOT found: barentsburg\n",
      "City NOT found: fevralsk\n",
      "City Found: Processing Record for cape girardeau\n",
      "City Found: Processing Record for chernyshevskiy\n",
      "City NOT found: satitoa\n",
      "City Found: Processing Record for haines junction\n",
      "City Found: Processing Record for zhigansk\n",
      "City Found: Processing Record for lebu\n",
      "City Found: Processing Record for codrington\n",
      "City Found: Processing Record for mae hong son\n",
      "City Found: Processing Record for havre\n",
      "City Found: Processing Record for brewster\n",
      "City Found: Processing Record for shache\n",
      "City Found: Processing Record for camacha\n",
      "City Found: Processing Record for braniewo\n",
      "City Found: Processing Record for katsuura\n",
      "City NOT found: tabiauea\n",
      "City Found: Processing Record for marzuq\n",
      "City Found: Processing Record for arumbavur\n",
      "City Found: Processing Record for erdenet\n",
      "City Found: Processing Record for vangaindrano\n",
      "City NOT found: illoqqortoormiut\n",
      "City Found: Processing Record for mwaya\n",
      "City Found: Processing Record for plastun\n",
      "City Found: Processing Record for sola\n",
      "City Found: Processing Record for waipawa\n",
      "City Found: Processing Record for homer\n"
     ]
    },
    {
     "name": "stdout",
     "output_type": "stream",
     "text": [
      "City Found: Processing Record for chokurdakh\n",
      "City Found: Processing Record for sur\n",
      "City Found: Processing Record for mabaruma\n",
      "City Found: Processing Record for mangai\n",
      "City Found: Processing Record for polson\n",
      "City Found: Processing Record for torbay\n",
      "City Found: Processing Record for gemena\n",
      "City Found: Processing Record for totness\n",
      "City Found: Processing Record for cocula\n",
      "City Found: Processing Record for taitung\n",
      "City Found: Processing Record for balabac\n",
      "City Found: Processing Record for barstow\n",
      "City Found: Processing Record for kodiak\n",
      "City Found: Processing Record for ostrovnoy\n",
      "City Found: Processing Record for hamilton\n",
      "City Found: Processing Record for hilo\n",
      "City Found: Processing Record for druzhba\n",
      "City Found: Processing Record for dingle\n",
      "City Found: Processing Record for fukue\n",
      "City Found: Processing Record for charters towers\n",
      "City NOT found: we\n",
      "City Found: Processing Record for namibe\n",
      "City NOT found: burica\n",
      "City Found: Processing Record for hithadhoo\n",
      "City Found: Processing Record for lagoa\n",
      "City Found: Processing Record for hay river\n",
      "City Found: Processing Record for san policarpo\n",
      "City Found: Processing Record for irbeyskoye\n",
      "City NOT found: macaboboni\n",
      "City Found: Processing Record for vardo\n",
      "City Found: Processing Record for provideniya\n",
      "City Found: Processing Record for nurota\n",
      "City Found: Processing Record for cranbrook\n",
      "City Found: Processing Record for bataipora\n",
      "City Found: Processing Record for taltal\n",
      "City Found: Processing Record for riyadh\n",
      "City Found: Processing Record for ancud\n",
      "City Found: Processing Record for asau\n",
      "City Found: Processing Record for puerto del rosario\n",
      "City Found: Processing Record for jacareacanga\n",
      "City Found: Processing Record for samarai\n",
      "City Found: Processing Record for rongcheng\n",
      "City Found: Processing Record for inhambane\n",
      "City NOT found: bargal\n",
      "City NOT found: samusu\n",
      "City Found: Processing Record for saint-pierre\n",
      "City Found: Processing Record for mancio lima\n",
      "City Found: Processing Record for saint anthony\n",
      "City Found: Processing Record for wanlaweyn\n",
      "City Found: Processing Record for eureka\n",
      "City NOT found: alotau\n",
      "City Found: Processing Record for santa isabel do rio negro\n",
      "City NOT found: toulepleu\n",
      "City Found: Processing Record for anadyr\n",
      "City Found: Processing Record for krasnopavlivka\n",
      "City Found: Processing Record for portland\n",
      "City Found: Processing Record for verbilki\n",
      "City Found: Processing Record for huarmey\n",
      "City Found: Processing Record for berlevag\n",
      "City Found: Processing Record for ortona\n",
      "City Found: Processing Record for dubbo\n",
      "City Found: Processing Record for mazamari\n",
      "City Found: Processing Record for dargaville\n",
      "City Found: Processing Record for mahebourg\n",
      "City Found: Processing Record for vostok\n",
      "City Found: Processing Record for tromso\n",
      "City Found: Processing Record for mujiayingzi\n",
      "City Found: Processing Record for xichang\n",
      "City Found: Processing Record for samara\n",
      "City Found: Processing Record for fairview\n",
      "City Found: Processing Record for hovd\n",
      "City Found: Processing Record for balkanabat\n",
      "City Found: Processing Record for maceio\n",
      "City Found: Processing Record for san angelo\n",
      "City Found: Processing Record for bengkulu\n",
      "City Found: Processing Record for half moon bay\n",
      "City Found: Processing Record for brae\n",
      "City Found: Processing Record for ranong\n",
      "City Found: Processing Record for makakilo city\n",
      "City Found: Processing Record for comodoro rivadavia\n",
      "City Found: Processing Record for salta\n",
      "City Found: Processing Record for ouadda\n",
      "City NOT found: bur gabo\n",
      "City NOT found: tsihombe\n",
      "City NOT found: dzhusaly\n",
      "City Found: Processing Record for milkovo\n",
      "City Found: Processing Record for abeche\n",
      "City Found: Processing Record for high level\n",
      "City Found: Processing Record for kabo\n",
      "City Found: Processing Record for guiuan\n",
      "City NOT found: mixtepec\n",
      "City Found: Processing Record for ashcroft\n",
      "City Found: Processing Record for puro\n",
      "City Found: Processing Record for chapais\n",
      "City Found: Processing Record for banjar\n",
      "City Found: Processing Record for agadez\n",
      "City Found: Processing Record for la ciotat\n",
      "City Found: Processing Record for san cristobal\n",
      "City Found: Processing Record for eberndorf\n",
      "City Found: Processing Record for mahibadhoo\n",
      "City Found: Processing Record for buraydah\n",
      "City Found: Processing Record for vanimo\n",
      "City Found: Processing Record for aykhal\n",
      "City Found: Processing Record for alofi\n",
      "City Found: Processing Record for vao\n",
      "City Found: Processing Record for kieta\n",
      "City Found: Processing Record for camocim\n",
      "City Found: Processing Record for tura\n",
      "City Found: Processing Record for nederland\n",
      "City Found: Processing Record for hofn\n",
      "City Found: Processing Record for kachug\n",
      "City Found: Processing Record for suriapet\n",
      "City Found: Processing Record for pisco\n",
      "City Found: Processing Record for ukiah\n",
      "City Found: Processing Record for chateauroux\n",
      "City Found: Processing Record for lavrentiya\n",
      "City Found: Processing Record for aksaray\n",
      "City Found: Processing Record for atar\n",
      "City Found: Processing Record for praia da vitoria\n",
      "City Found: Processing Record for taoudenni\n",
      "City Found: Processing Record for gizo\n",
      "City Found: Processing Record for mehamn\n",
      "City Found: Processing Record for sabang\n",
      "City Found: Processing Record for millet\n",
      "City Found: Processing Record for winnemucca\n",
      "City Found: Processing Record for abilene\n",
      "City NOT found: labutta\n",
      "City Found: Processing Record for havre-saint-pierre\n",
      "City Found: Processing Record for mana\n",
      "City Found: Processing Record for terre haute\n",
      "City Found: Processing Record for saint-augustin\n",
      "City Found: Processing Record for ahipara\n",
      "City NOT found: artyk\n",
      "City Found: Processing Record for dafeng\n",
      "City Found: Processing Record for broome\n",
      "City Found: Processing Record for kapuskasing\n",
      "City Found: Processing Record for vondrozo\n",
      "City NOT found: amderma\n",
      "City Found: Processing Record for clemencia\n",
      "City Found: Processing Record for luebo\n",
      "City Found: Processing Record for meulaboh\n",
      "City Found: Processing Record for axim\n",
      "City Found: Processing Record for priverno\n",
      "City Found: Processing Record for pevek\n",
      "City NOT found: mys shmidta\n",
      "City Found: Processing Record for kysyl-syr\n",
      "City Found: Processing Record for morondava\n",
      "City Found: Processing Record for cuiluan\n",
      "City Found: Processing Record for rovaniemi\n",
      "City Found: Processing Record for genhe\n",
      "City Found: Processing Record for praia\n",
      "City Found: Processing Record for oeiras\n",
      "City Found: Processing Record for cacu\n",
      "City Found: Processing Record for mogadishu\n",
      "City Found: Processing Record for sobolevo\n",
      "City Found: Processing Record for vanavara\n",
      "City Found: Processing Record for malanje\n",
      "City Found: Processing Record for andros town\n",
      "City Found: Processing Record for reconquista\n",
      "City Found: Processing Record for maldonado\n",
      "City Found: Processing Record for boz\n",
      "City Found: Processing Record for bathsheba\n",
      "City Found: Processing Record for skjervoy\n",
      "City Found: Processing Record for bull savanna\n",
      "City Found: Processing Record for cap-aux-meules\n",
      "City Found: Processing Record for ossora\n",
      "City Found: Processing Record for la paz\n",
      "City Found: Processing Record for shingu\n",
      "City NOT found: toliary\n",
      "City Found: Processing Record for kabale\n",
      "City Found: Processing Record for luwuk\n",
      "City Found: Processing Record for dukstas\n",
      "City Found: Processing Record for dodoma\n",
      "City Found: Processing Record for alice springs\n",
      "City Found: Processing Record for ust-katav\n",
      "City Found: Processing Record for sistranda\n",
      "City Found: Processing Record for isangel\n",
      "City Found: Processing Record for manaira\n",
      "City Found: Processing Record for vila franca do campo\n",
      "City Found: Processing Record for ko samui\n",
      "City Found: Processing Record for lorengau\n",
      "City Found: Processing Record for jumla\n",
      "City Found: Processing Record for lagos\n",
      "City Found: Processing Record for alta floresta\n",
      "City Found: Processing Record for faanui\n",
      "City Found: Processing Record for mendi\n",
      "City Found: Processing Record for arlit\n",
      "City Found: Processing Record for garissa\n",
      "City Found: Processing Record for sambava\n",
      "City Found: Processing Record for zhangye\n",
      "City Found: Processing Record for manicore\n",
      "City Found: Processing Record for kruisfontein\n",
      "City Found: Processing Record for karratha\n",
      "City Found: Processing Record for schattdorf\n",
      "City Found: Processing Record for sao geraldo do araguaia\n",
      "City NOT found: jiddah\n",
      "City Found: Processing Record for narsaq\n",
      "City Found: Processing Record for ponta delgada\n"
     ]
    },
    {
     "name": "stdout",
     "output_type": "stream",
     "text": [
      "City Found: Processing Record for mount gambier\n",
      "City Found: Processing Record for raduzhnyy\n",
      "City Found: Processing Record for tuatapere\n",
      "City Found: Processing Record for yulara\n",
      "City Found: Processing Record for vinukonda\n",
      "City Found: Processing Record for krasnoturansk\n",
      "City Found: Processing Record for hasaki\n",
      "City Found: Processing Record for port lincoln\n",
      "City Found: Processing Record for broken hill\n",
      "City Found: Processing Record for jalu\n",
      "City Found: Processing Record for wasco\n",
      "City Found: Processing Record for luzhou\n",
      "City NOT found: umzimvubu\n",
      "City Found: Processing Record for stanovoye\n",
      "City NOT found: vaitupu\n",
      "City NOT found: marv dasht\n",
      "City Found: Processing Record for carndonagh\n",
      "City Found: Processing Record for uribia\n",
      "City Found: Processing Record for kishanganj\n",
      "City Found: Processing Record for samalkot\n",
      "City Found: Processing Record for itaituba\n",
      "City Found: Processing Record for nemuro\n",
      "City Found: Processing Record for kodyma\n",
      "City Found: Processing Record for nyuksenitsa\n",
      "City Found: Processing Record for esperance\n",
      "City Found: Processing Record for sarangani\n",
      "City Found: Processing Record for villa rica\n",
      "City Found: Processing Record for quatre cocos\n",
      "City Found: Processing Record for muhos\n",
      "City Found: Processing Record for tabuk\n",
      "City Found: Processing Record for twentynine palms\n",
      "City Found: Processing Record for gamba\n",
      "City Found: Processing Record for bambous virieux\n",
      "City Found: Processing Record for gobabis\n",
      "City Found: Processing Record for altamira\n",
      "City Found: Processing Record for tandil\n",
      "City Found: Processing Record for pindiga\n",
      "City Found: Processing Record for cerkezkoy\n",
      "City Found: Processing Record for salinas\n",
      "City Found: Processing Record for zabaykalsk\n",
      "City Found: Processing Record for sal rei\n",
      "City NOT found: dipkarpaz\n",
      "City Found: Processing Record for unecha\n",
      "City Found: Processing Record for calvinia\n",
      "City Found: Processing Record for magadan\n",
      "City Found: Processing Record for kropotkin\n",
      "City Found: Processing Record for lompoc\n",
      "City Found: Processing Record for sterling\n",
      "City Found: Processing Record for qasigiannguit\n",
      "City Found: Processing Record for victor harbor\n",
      "City Found: Processing Record for kahului\n",
      "City Found: Processing Record for corbelia\n",
      "City Found: Processing Record for tumaco\n",
      "City Found: Processing Record for yenagoa\n",
      "City Found: Processing Record for birao\n",
      "City Found: Processing Record for sumenep\n",
      "City Found: Processing Record for swan river\n",
      "City Found: Processing Record for nowy targ\n",
      "City Found: Processing Record for dyersburg\n",
      "City Found: Processing Record for la ronge\n",
      "City Found: Processing Record for cervo\n",
      "City Found: Processing Record for nioki\n",
      "City Found: Processing Record for kannur\n",
      "City Found: Processing Record for atherton\n",
      "City Found: Processing Record for souillac\n",
      "City Found: Processing Record for launceston\n",
      "City Found: Processing Record for garowe\n",
      "City Found: Processing Record for oranjemund\n",
      "City Found: Processing Record for shubarshi\n",
      "City NOT found: umm durman\n",
      "City Found: Processing Record for dakar\n",
      "City Found: Processing Record for male\n",
      "City Found: Processing Record for phangnga\n",
      "City Found: Processing Record for kismayo\n",
      "City Found: Processing Record for kotelnich\n",
      "City Found: Processing Record for clement town\n",
      "City Found: Processing Record for bubaque\n",
      "City Found: Processing Record for garcia hernandez\n",
      "City Found: Processing Record for baruun-urt\n",
      "City Found: Processing Record for dunedin\n",
      "City Found: Processing Record for tabou\n",
      "City Found: Processing Record for payo\n",
      "City Found: Processing Record for quesnel\n",
      "City Found: Processing Record for katherine\n",
      "City Found: Processing Record for kuppam\n",
      "City Found: Processing Record for severnoye\n",
      "City Found: Processing Record for mont-dore\n",
      "City Found: Processing Record for podor\n",
      "City Found: Processing Record for nyurba\n",
      "City Found: Processing Record for praya\n",
      "City Found: Processing Record for ankazoabo\n",
      "City Found: Processing Record for sao desiderio\n",
      "City NOT found: sorvag\n",
      "City Found: Processing Record for agropoli\n",
      "City Found: Processing Record for matagami\n",
      "City Found: Processing Record for usinsk\n",
      "City Found: Processing Record for sakakah\n",
      "City Found: Processing Record for matara\n",
      "City Found: Processing Record for karatsu\n",
      "City Found: Processing Record for dicabisagan\n",
      "City Found: Processing Record for cienfuegos\n",
      "City Found: Processing Record for bullhead city\n",
      "City Found: Processing Record for artvin\n",
      "City Found: Processing Record for laguna\n",
      "City Found: Processing Record for san carlos de bariloche\n",
      "City Found: Processing Record for port-cartier\n",
      "City Found: Processing Record for pachmarhi\n",
      "City Found: Processing Record for lufilufi\n",
      "City Found: Processing Record for trincomalee\n",
      "City Found: Processing Record for tevriz\n",
      "City Found: Processing Record for iquique\n",
      "City Found: Processing Record for taucha\n",
      "City Found: Processing Record for los amates\n",
      "City Found: Processing Record for presidente franco\n",
      "City Found: Processing Record for plouzane\n",
      "City NOT found: grand river south east\n",
      "City Found: Processing Record for kirakira\n",
      "City Found: Processing Record for kamaishi\n",
      "City Found: Processing Record for port hardy\n",
      "City Found: Processing Record for kaura namoda\n",
      "City Found: Processing Record for vezirkopru\n",
      "City Found: Processing Record for le port\n",
      "City Found: Processing Record for puerto escondido\n",
      "City Found: Processing Record for christchurch\n",
      "City Found: Processing Record for viedma\n",
      "City Found: Processing Record for athens\n",
      "City Found: Processing Record for tessalit\n",
      "City Found: Processing Record for sampit\n",
      "City Found: Processing Record for coquimbo\n",
      "City Found: Processing Record for sheltozero\n",
      "City Found: Processing Record for catuday\n",
      "City Found: Processing Record for khash\n",
      "City Found: Processing Record for merrill\n",
      "City Found: Processing Record for saint-leu\n",
      "City Found: Processing Record for port augusta\n",
      "City Found: Processing Record for spassk-dalniy\n",
      "City Found: Processing Record for seydisehir\n",
      "City Found: Processing Record for taihe\n",
      "City Found: Processing Record for odesskoye\n",
      "City NOT found: sahrak\n",
      "City NOT found: samalaeulu\n",
      "City Found: Processing Record for casper\n",
      "City Found: Processing Record for wang saphung\n",
      "City Found: Processing Record for port-gentil\n",
      "City Found: Processing Record for bonavista\n",
      "City Found: Processing Record for port blair\n",
      "City Found: Processing Record for bardiyah\n",
      "City Found: Processing Record for northam\n",
      "City Found: Processing Record for necochea\n",
      "City NOT found: anar darreh\n",
      "City Found: Processing Record for teya\n",
      "City Found: Processing Record for cherskiy\n",
      "City Found: Processing Record for cheney\n",
      "City Found: Processing Record for tambopata\n",
      "City Found: Processing Record for kang\n",
      "City Found: Processing Record for kambove\n",
      "City Found: Processing Record for thinadhoo\n",
      "City Found: Processing Record for cape coast\n",
      "City Found: Processing Record for pueblo nuevo\n",
      "City Found: Processing Record for redmond\n",
      "City Found: Processing Record for urucara\n",
      "City Found: Processing Record for hirara\n",
      "City Found: Processing Record for sakaiminato\n",
      "City Found: Processing Record for fairbanks\n",
      "City NOT found: mme\n",
      "City Found: Processing Record for talnakh\n",
      "City Found: Processing Record for amalapuram\n",
      "City NOT found: marcona\n",
      "City NOT found: wulanhaote\n",
      "City NOT found: temaraia\n",
      "City Found: Processing Record for karaton\n",
      "City Found: Processing Record for lovozero\n",
      "City Found: Processing Record for bokoro\n",
      "City NOT found: palabuhanratu\n",
      "City Found: Processing Record for marawi\n",
      "City Found: Processing Record for bilibino\n",
      "City Found: Processing Record for rassvet\n",
      "City Found: Processing Record for boende\n",
      "City Found: Processing Record for sassandra\n",
      "City Found: Processing Record for zhanakorgan\n",
      "City Found: Processing Record for asosa\n",
      "City Found: Processing Record for sayat\n",
      "City Found: Processing Record for kempsey\n",
      "City Found: Processing Record for salalah\n",
      "City Found: Processing Record for guane\n",
      "City Found: Processing Record for namatanai\n",
      "City Found: Processing Record for umm kaddadah\n",
      "City Found: Processing Record for peniche\n",
      "City Found: Processing Record for oyem\n",
      "City Found: Processing Record for auki\n",
      "City Found: Processing Record for khandyga\n",
      "City Found: Processing Record for kavaratti\n",
      "City Found: Processing Record for laurel\n",
      "City Found: Processing Record for middelkerke\n",
      "City Found: Processing Record for lasa\n",
      "City Found: Processing Record for tasiilaq\n"
     ]
    },
    {
     "name": "stdout",
     "output_type": "stream",
     "text": [
      "City Found: Processing Record for uige\n",
      "City Found: Processing Record for kitgum\n",
      "City Found: Processing Record for teguise\n",
      "City Found: Processing Record for vrangel\n",
      "City Found: Processing Record for gulariya\n",
      "City Found: Processing Record for vurnary\n",
      "City NOT found: pokanayevka\n",
      "City Found: Processing Record for hamadan\n",
      "City Found: Processing Record for hachinohe\n",
      "City Found: Processing Record for campbellsville\n",
      "City Found: Processing Record for san patricio\n",
      "City Found: Processing Record for moram\n",
      "City Found: Processing Record for moa\n",
      "City Found: Processing Record for ulladulla\n",
      "City Found: Processing Record for barguzin\n",
      "City Found: Processing Record for barreirinhas\n",
      "City Found: Processing Record for aksarayskiy\n",
      "City Found: Processing Record for uyuni\n",
      "City Found: Processing Record for kutum\n",
      "City Found: Processing Record for monte azul\n",
      "City Found: Processing Record for sinazongwe\n",
      "City NOT found: fort saint john\n",
      "City Found: Processing Record for dukat\n",
      "City Found: Processing Record for milazzo\n",
      "City Found: Processing Record for coxim\n",
      "City NOT found: tawkar\n",
      "City Found: Processing Record for fushe-arrez\n",
      "City Found: Processing Record for makat\n"
     ]
    }
   ],
   "source": [
    "# Create Lists to hold city information\n",
    "lat = []\n",
    "lon = []\n",
    "foundCities = []\n",
    "temp = []\n",
    "humidity = []\n",
    "cloudiness = []\n",
    "wind = []\n",
    "date = []\n",
    "country = []\n",
    "\n",
    "print(\"Beginning Data Retrieval/n/-----------------------------\")\n",
    "\n",
    "# Loop through the cities and retrieve data for each list\n",
    "for city in cities:\n",
    "    try:\n",
    "        response = requests.get(query_url + city).json()\n",
    "        lat.append(response[\"coord\"][\"lat\"])\n",
    "        lon.append(response[\"coord\"][\"lon\"])\n",
    "        temp.append(response[\"main\"][\"temp_max\"])\n",
    "        humidity.append(response[\"main\"][\"humidity\"])\n",
    "        cloudiness.append(response[\"clouds\"][\"all\"])\n",
    "        wind.append(response[\"wind\"][\"speed\"])\n",
    "        date.append(response[\"dt\"])\n",
    "        country.append(response[\"sys\"][\"country\"])\n",
    "        foundCities.append(city)\n",
    "        print(f\"City Found: Processing Record for {city}\")\n",
    "    except:\n",
    "        print(f\"City NOT found: {city}\")"
   ]
  },
  {
   "cell_type": "markdown",
   "metadata": {},
   "source": [
    "### Convert Raw Data to DataFrame\n",
    "* Export the city data into a .csv.\n",
    "* Display the DataFrame"
   ]
  },
  {
   "cell_type": "code",
   "execution_count": 15,
   "metadata": {},
   "outputs": [
    {
     "data": {
      "text/html": [
       "<div>\n",
       "<style scoped>\n",
       "    .dataframe tbody tr th:only-of-type {\n",
       "        vertical-align: middle;\n",
       "    }\n",
       "\n",
       "    .dataframe tbody tr th {\n",
       "        vertical-align: top;\n",
       "    }\n",
       "\n",
       "    .dataframe thead th {\n",
       "        text-align: right;\n",
       "    }\n",
       "</style>\n",
       "<table border=\"1\" class=\"dataframe\">\n",
       "  <thead>\n",
       "    <tr style=\"text-align: right;\">\n",
       "      <th></th>\n",
       "      <th>City</th>\n",
       "      <th>Country</th>\n",
       "      <th>Temperature</th>\n",
       "      <th>Humidity</th>\n",
       "      <th>Cloudiness</th>\n",
       "      <th>Windspeed</th>\n",
       "      <th>Latitude</th>\n",
       "      <th>Longitude</th>\n",
       "      <th>Date</th>\n",
       "    </tr>\n",
       "  </thead>\n",
       "  <tbody>\n",
       "    <tr>\n",
       "      <th>0</th>\n",
       "      <td>butaritari</td>\n",
       "      <td>KI</td>\n",
       "      <td>81.55</td>\n",
       "      <td>75</td>\n",
       "      <td>12</td>\n",
       "      <td>17.87</td>\n",
       "      <td>3.0707</td>\n",
       "      <td>172.7902</td>\n",
       "      <td>1658860310</td>\n",
       "    </tr>\n",
       "    <tr>\n",
       "      <th>1</th>\n",
       "      <td>atasu</td>\n",
       "      <td>KZ</td>\n",
       "      <td>79.88</td>\n",
       "      <td>20</td>\n",
       "      <td>41</td>\n",
       "      <td>15.66</td>\n",
       "      <td>48.6814</td>\n",
       "      <td>71.6433</td>\n",
       "      <td>1658860310</td>\n",
       "    </tr>\n",
       "    <tr>\n",
       "      <th>2</th>\n",
       "      <td>nikolskoye</td>\n",
       "      <td>RU</td>\n",
       "      <td>74.80</td>\n",
       "      <td>70</td>\n",
       "      <td>83</td>\n",
       "      <td>6.91</td>\n",
       "      <td>59.7035</td>\n",
       "      <td>30.7861</td>\n",
       "      <td>1658860311</td>\n",
       "    </tr>\n",
       "    <tr>\n",
       "      <th>3</th>\n",
       "      <td>airai</td>\n",
       "      <td>TL</td>\n",
       "      <td>53.29</td>\n",
       "      <td>70</td>\n",
       "      <td>100</td>\n",
       "      <td>3.67</td>\n",
       "      <td>-8.9266</td>\n",
       "      <td>125.4092</td>\n",
       "      <td>1658860311</td>\n",
       "    </tr>\n",
       "    <tr>\n",
       "      <th>4</th>\n",
       "      <td>east london</td>\n",
       "      <td>ZA</td>\n",
       "      <td>59.94</td>\n",
       "      <td>82</td>\n",
       "      <td>0</td>\n",
       "      <td>8.05</td>\n",
       "      <td>-33.0153</td>\n",
       "      <td>27.9116</td>\n",
       "      <td>1658860120</td>\n",
       "    </tr>\n",
       "  </tbody>\n",
       "</table>\n",
       "</div>"
      ],
      "text/plain": [
       "          City Country  Temperature  Humidity  Cloudiness  Windspeed  \\\n",
       "0   butaritari      KI        81.55        75          12      17.87   \n",
       "1        atasu      KZ        79.88        20          41      15.66   \n",
       "2   nikolskoye      RU        74.80        70          83       6.91   \n",
       "3        airai      TL        53.29        70         100       3.67   \n",
       "4  east london      ZA        59.94        82           0       8.05   \n",
       "\n",
       "   Latitude  Longitude        Date  \n",
       "0    3.0707   172.7902  1658860310  \n",
       "1   48.6814    71.6433  1658860310  \n",
       "2   59.7035    30.7861  1658860311  \n",
       "3   -8.9266   125.4092  1658860311  \n",
       "4  -33.0153    27.9116  1658860120  "
      ]
     },
     "execution_count": 15,
     "metadata": {},
     "output_type": "execute_result"
    }
   ],
   "source": [
    "# Create a data frame using the data retrieved above\n",
    "weatherDF = pd.DataFrame(\n",
    "    {\n",
    "    \"City\": foundCities,\n",
    "    \"Country\": country,\n",
    "    \"Temperature\": temp,\n",
    "    \"Humidity\": humidity,\n",
    "    \"Cloudiness\": cloudiness,\n",
    "    \"Windspeed\": wind,\n",
    "    \"Latitude\": lat,\n",
    "    \"Longitude\": lon,\n",
    "    \"Date\": date\n",
    "    }\n",
    ")\n",
    "weatherDF.to_csv(\"city_data.csv\", index = False)\n",
    "\n",
    "weatherDF.head()"
   ]
  },
  {
   "cell_type": "code",
   "execution_count": 7,
   "metadata": {},
   "outputs": [
    {
     "data": {
      "text/html": [
       "<div>\n",
       "<style scoped>\n",
       "    .dataframe tbody tr th:only-of-type {\n",
       "        vertical-align: middle;\n",
       "    }\n",
       "\n",
       "    .dataframe tbody tr th {\n",
       "        vertical-align: top;\n",
       "    }\n",
       "\n",
       "    .dataframe thead th {\n",
       "        text-align: right;\n",
       "    }\n",
       "</style>\n",
       "<table border=\"1\" class=\"dataframe\">\n",
       "  <thead>\n",
       "    <tr style=\"text-align: right;\">\n",
       "      <th></th>\n",
       "      <th>Temperature</th>\n",
       "      <th>Humidity</th>\n",
       "      <th>Cloudiness</th>\n",
       "      <th>Windspeed</th>\n",
       "      <th>Latitude</th>\n",
       "      <th>Longitude</th>\n",
       "      <th>Date</th>\n",
       "    </tr>\n",
       "  </thead>\n",
       "  <tbody>\n",
       "    <tr>\n",
       "      <th>count</th>\n",
       "      <td>563.000000</td>\n",
       "      <td>563.000000</td>\n",
       "      <td>563.000000</td>\n",
       "      <td>563.000000</td>\n",
       "      <td>563.000000</td>\n",
       "      <td>563.000000</td>\n",
       "      <td>5.630000e+02</td>\n",
       "    </tr>\n",
       "    <tr>\n",
       "      <th>mean</th>\n",
       "      <td>71.019751</td>\n",
       "      <td>71.323268</td>\n",
       "      <td>56.740675</td>\n",
       "      <td>7.543623</td>\n",
       "      <td>20.125462</td>\n",
       "      <td>18.677168</td>\n",
       "      <td>1.658860e+09</td>\n",
       "    </tr>\n",
       "    <tr>\n",
       "      <th>std</th>\n",
       "      <td>14.158423</td>\n",
       "      <td>21.953492</td>\n",
       "      <td>39.827701</td>\n",
       "      <td>5.064889</td>\n",
       "      <td>32.783384</td>\n",
       "      <td>89.513142</td>\n",
       "      <td>9.305342e+01</td>\n",
       "    </tr>\n",
       "    <tr>\n",
       "      <th>min</th>\n",
       "      <td>33.310000</td>\n",
       "      <td>7.000000</td>\n",
       "      <td>0.000000</td>\n",
       "      <td>0.000000</td>\n",
       "      <td>-54.800000</td>\n",
       "      <td>-175.200000</td>\n",
       "      <td>1.658860e+09</td>\n",
       "    </tr>\n",
       "    <tr>\n",
       "      <th>25%</th>\n",
       "      <td>62.060000</td>\n",
       "      <td>58.500000</td>\n",
       "      <td>13.000000</td>\n",
       "      <td>3.840000</td>\n",
       "      <td>-6.196400</td>\n",
       "      <td>-59.583350</td>\n",
       "      <td>1.658860e+09</td>\n",
       "    </tr>\n",
       "    <tr>\n",
       "      <th>50%</th>\n",
       "      <td>72.390000</td>\n",
       "      <td>78.000000</td>\n",
       "      <td>69.000000</td>\n",
       "      <td>6.220000</td>\n",
       "      <td>22.566700</td>\n",
       "      <td>22.788200</td>\n",
       "      <td>1.658860e+09</td>\n",
       "    </tr>\n",
       "    <tr>\n",
       "      <th>75%</th>\n",
       "      <td>80.665000</td>\n",
       "      <td>88.000000</td>\n",
       "      <td>100.000000</td>\n",
       "      <td>10.360000</td>\n",
       "      <td>47.808300</td>\n",
       "      <td>95.386800</td>\n",
       "      <td>1.658860e+09</td>\n",
       "    </tr>\n",
       "    <tr>\n",
       "      <th>max</th>\n",
       "      <td>108.280000</td>\n",
       "      <td>100.000000</td>\n",
       "      <td>100.000000</td>\n",
       "      <td>29.210000</td>\n",
       "      <td>78.218600</td>\n",
       "      <td>178.416700</td>\n",
       "      <td>1.658861e+09</td>\n",
       "    </tr>\n",
       "  </tbody>\n",
       "</table>\n",
       "</div>"
      ],
      "text/plain": [
       "       Temperature    Humidity  Cloudiness   Windspeed    Latitude  \\\n",
       "count   563.000000  563.000000  563.000000  563.000000  563.000000   \n",
       "mean     71.019751   71.323268   56.740675    7.543623   20.125462   \n",
       "std      14.158423   21.953492   39.827701    5.064889   32.783384   \n",
       "min      33.310000    7.000000    0.000000    0.000000  -54.800000   \n",
       "25%      62.060000   58.500000   13.000000    3.840000   -6.196400   \n",
       "50%      72.390000   78.000000   69.000000    6.220000   22.566700   \n",
       "75%      80.665000   88.000000  100.000000   10.360000   47.808300   \n",
       "max     108.280000  100.000000  100.000000   29.210000   78.218600   \n",
       "\n",
       "        Longitude          Date  \n",
       "count  563.000000  5.630000e+02  \n",
       "mean    18.677168  1.658860e+09  \n",
       "std     89.513142  9.305342e+01  \n",
       "min   -175.200000  1.658860e+09  \n",
       "25%    -59.583350  1.658860e+09  \n",
       "50%     22.788200  1.658860e+09  \n",
       "75%     95.386800  1.658860e+09  \n",
       "max    178.416700  1.658861e+09  "
      ]
     },
     "execution_count": 7,
     "metadata": {},
     "output_type": "execute_result"
    }
   ],
   "source": [
    "weatherDF.describe()"
   ]
  },
  {
   "cell_type": "markdown",
   "metadata": {},
   "source": [
    "## Inspect the data and remove the cities where the humidity > 100%.\n",
    "----\n",
    "Skip this step if there are no cities that have humidity > 100%. "
   ]
  },
  {
   "cell_type": "code",
   "execution_count": 8,
   "metadata": {},
   "outputs": [
    {
     "data": {
      "text/html": [
       "<div>\n",
       "<style scoped>\n",
       "    .dataframe tbody tr th:only-of-type {\n",
       "        vertical-align: middle;\n",
       "    }\n",
       "\n",
       "    .dataframe tbody tr th {\n",
       "        vertical-align: top;\n",
       "    }\n",
       "\n",
       "    .dataframe thead th {\n",
       "        text-align: right;\n",
       "    }\n",
       "</style>\n",
       "<table border=\"1\" class=\"dataframe\">\n",
       "  <thead>\n",
       "    <tr style=\"text-align: right;\">\n",
       "      <th></th>\n",
       "      <th>City</th>\n",
       "      <th>Country</th>\n",
       "      <th>Temperature</th>\n",
       "      <th>Humidity</th>\n",
       "      <th>Cloudiness</th>\n",
       "      <th>Windspeed</th>\n",
       "      <th>Latitude</th>\n",
       "      <th>Longitude</th>\n",
       "      <th>Date</th>\n",
       "    </tr>\n",
       "  </thead>\n",
       "  <tbody>\n",
       "    <tr>\n",
       "      <th>0</th>\n",
       "      <td>butaritari</td>\n",
       "      <td>KI</td>\n",
       "      <td>81.55</td>\n",
       "      <td>75</td>\n",
       "      <td>12</td>\n",
       "      <td>17.87</td>\n",
       "      <td>3.0707</td>\n",
       "      <td>172.7902</td>\n",
       "      <td>1658860310</td>\n",
       "    </tr>\n",
       "    <tr>\n",
       "      <th>1</th>\n",
       "      <td>atasu</td>\n",
       "      <td>KZ</td>\n",
       "      <td>79.88</td>\n",
       "      <td>20</td>\n",
       "      <td>41</td>\n",
       "      <td>15.66</td>\n",
       "      <td>48.6814</td>\n",
       "      <td>71.6433</td>\n",
       "      <td>1658860310</td>\n",
       "    </tr>\n",
       "    <tr>\n",
       "      <th>2</th>\n",
       "      <td>nikolskoye</td>\n",
       "      <td>RU</td>\n",
       "      <td>74.80</td>\n",
       "      <td>70</td>\n",
       "      <td>83</td>\n",
       "      <td>6.91</td>\n",
       "      <td>59.7035</td>\n",
       "      <td>30.7861</td>\n",
       "      <td>1658860311</td>\n",
       "    </tr>\n",
       "    <tr>\n",
       "      <th>3</th>\n",
       "      <td>airai</td>\n",
       "      <td>TL</td>\n",
       "      <td>53.29</td>\n",
       "      <td>70</td>\n",
       "      <td>100</td>\n",
       "      <td>3.67</td>\n",
       "      <td>-8.9266</td>\n",
       "      <td>125.4092</td>\n",
       "      <td>1658860311</td>\n",
       "    </tr>\n",
       "    <tr>\n",
       "      <th>4</th>\n",
       "      <td>east london</td>\n",
       "      <td>ZA</td>\n",
       "      <td>59.94</td>\n",
       "      <td>82</td>\n",
       "      <td>0</td>\n",
       "      <td>8.05</td>\n",
       "      <td>-33.0153</td>\n",
       "      <td>27.9116</td>\n",
       "      <td>1658860120</td>\n",
       "    </tr>\n",
       "    <tr>\n",
       "      <th>...</th>\n",
       "      <td>...</td>\n",
       "      <td>...</td>\n",
       "      <td>...</td>\n",
       "      <td>...</td>\n",
       "      <td>...</td>\n",
       "      <td>...</td>\n",
       "      <td>...</td>\n",
       "      <td>...</td>\n",
       "      <td>...</td>\n",
       "    </tr>\n",
       "    <tr>\n",
       "      <th>558</th>\n",
       "      <td>dukat</td>\n",
       "      <td>RU</td>\n",
       "      <td>54.21</td>\n",
       "      <td>49</td>\n",
       "      <td>100</td>\n",
       "      <td>4.41</td>\n",
       "      <td>62.5500</td>\n",
       "      <td>155.5500</td>\n",
       "      <td>1658860510</td>\n",
       "    </tr>\n",
       "    <tr>\n",
       "      <th>559</th>\n",
       "      <td>milazzo</td>\n",
       "      <td>IT</td>\n",
       "      <td>84.34</td>\n",
       "      <td>76</td>\n",
       "      <td>0</td>\n",
       "      <td>4.00</td>\n",
       "      <td>38.2212</td>\n",
       "      <td>15.2383</td>\n",
       "      <td>1658860510</td>\n",
       "    </tr>\n",
       "    <tr>\n",
       "      <th>560</th>\n",
       "      <td>coxim</td>\n",
       "      <td>BR</td>\n",
       "      <td>95.86</td>\n",
       "      <td>16</td>\n",
       "      <td>0</td>\n",
       "      <td>3.83</td>\n",
       "      <td>-18.5067</td>\n",
       "      <td>-54.7600</td>\n",
       "      <td>1658860511</td>\n",
       "    </tr>\n",
       "    <tr>\n",
       "      <th>561</th>\n",
       "      <td>fushe-arrez</td>\n",
       "      <td>AL</td>\n",
       "      <td>76.89</td>\n",
       "      <td>51</td>\n",
       "      <td>0</td>\n",
       "      <td>2.26</td>\n",
       "      <td>42.0622</td>\n",
       "      <td>20.0167</td>\n",
       "      <td>1658860511</td>\n",
       "    </tr>\n",
       "    <tr>\n",
       "      <th>562</th>\n",
       "      <td>makat</td>\n",
       "      <td>KZ</td>\n",
       "      <td>83.39</td>\n",
       "      <td>33</td>\n",
       "      <td>75</td>\n",
       "      <td>4.56</td>\n",
       "      <td>47.6469</td>\n",
       "      <td>53.3463</td>\n",
       "      <td>1658860512</td>\n",
       "    </tr>\n",
       "  </tbody>\n",
       "</table>\n",
       "<p>563 rows × 9 columns</p>\n",
       "</div>"
      ],
      "text/plain": [
       "            City Country  Temperature  Humidity  Cloudiness  Windspeed  \\\n",
       "0     butaritari      KI        81.55        75          12      17.87   \n",
       "1          atasu      KZ        79.88        20          41      15.66   \n",
       "2     nikolskoye      RU        74.80        70          83       6.91   \n",
       "3          airai      TL        53.29        70         100       3.67   \n",
       "4    east london      ZA        59.94        82           0       8.05   \n",
       "..           ...     ...          ...       ...         ...        ...   \n",
       "558        dukat      RU        54.21        49         100       4.41   \n",
       "559      milazzo      IT        84.34        76           0       4.00   \n",
       "560        coxim      BR        95.86        16           0       3.83   \n",
       "561  fushe-arrez      AL        76.89        51           0       2.26   \n",
       "562        makat      KZ        83.39        33          75       4.56   \n",
       "\n",
       "     Latitude  Longitude        Date  \n",
       "0      3.0707   172.7902  1658860310  \n",
       "1     48.6814    71.6433  1658860310  \n",
       "2     59.7035    30.7861  1658860311  \n",
       "3     -8.9266   125.4092  1658860311  \n",
       "4    -33.0153    27.9116  1658860120  \n",
       "..        ...        ...         ...  \n",
       "558   62.5500   155.5500  1658860510  \n",
       "559   38.2212    15.2383  1658860510  \n",
       "560  -18.5067   -54.7600  1658860511  \n",
       "561   42.0622    20.0167  1658860511  \n",
       "562   47.6469    53.3463  1658860512  \n",
       "\n",
       "[563 rows x 9 columns]"
      ]
     },
     "execution_count": 8,
     "metadata": {},
     "output_type": "execute_result"
    }
   ],
   "source": [
    "updatedWeatherDF = weatherDF.drop(weatherDF[weatherDF[\"Humidity\"]>100].index)\n",
    "updatedWeatherDF"
   ]
  },
  {
   "cell_type": "markdown",
   "metadata": {},
   "source": [
    "## Plotting the Data\n",
    "* Use proper labeling of the plots using plot titles (including date of analysis) and axes labels.\n",
    "* Save the plotted figures as .pngs."
   ]
  },
  {
   "cell_type": "markdown",
   "metadata": {},
   "source": [
    "## Latitude vs. Temperature Plot"
   ]
  },
  {
   "cell_type": "code",
   "execution_count": 29,
   "metadata": {},
   "outputs": [
    {
     "data": {
      "image/png": "[encoded data removed]",
      "text/plain": [
       "<Figure size 432x288 with 1 Axes>"
      ]
     },
     "metadata": {
      "needs_background": "light"
     },
     "output_type": "display_data"
    }
   ],
   "source": [
    "# Generate scatter plot\n",
    "x = updatedWeatherDF['Latitude']\n",
    "y = updatedWeatherDF['Temperature']\n",
    "plt.scatter(x,y)\n",
    "plt.grid()\n",
    "\n",
    "# Add labels\n",
    "plt.title(f\"City Latitude vs. Max Temperature (07/26/2022)\")\n",
    "plt.xlabel(\"Latitude\")\n",
    "plt.ylabel(\"Max Temperature (F)\")\n",
    "\n",
    "plt.savefig('../output_data/City Latitude vs. Max Temperature.png')\n",
    "plt.show()"
   ]
  },
  {
   "cell_type": "markdown",
   "metadata": {},
   "source": [
    "This plot shows latitude vs. max temperature."
   ]
  },
  {
   "cell_type": "markdown",
   "metadata": {},
   "source": [
    "## Latitude vs. Humidity Plot"
   ]
  },
  {
   "cell_type": "code",
   "execution_count": 30,
   "metadata": {},
   "outputs": [
    {
     "data": {
      "image/png": "[encoded data removed]",
      "text/plain": [
       "<Figure size 432x288 with 1 Axes>"
      ]
     },
     "metadata": {
      "needs_background": "light"
     },
     "output_type": "display_data"
    }
   ],
   "source": [
    "# Generate scatter plot\n",
    "x = updatedWeatherDF['Latitude']\n",
    "y = updatedWeatherDF['Humidity']\n",
    "plt.scatter(x,y)\n",
    "plt.grid()\n",
    "\n",
    "# Add labels\n",
    "plt.title(f\"City Latitude vs. Humidity (07/26/2022)\")\n",
    "plt.xlabel(\"Latitude\")\n",
    "plt.ylabel(\"Humidity (%)\")\n",
    "\n",
    "plt.savefig('../output_data/City Latitude vs. Humidity.png')\n",
    "plt.show()"
   ]
  },
  {
   "cell_type": "markdown",
   "metadata": {},
   "source": [
    "This plot shows latitude vs. humidity."
   ]
  },
  {
   "cell_type": "markdown",
   "metadata": {},
   "source": [
    "## Latitude vs. Cloudiness Plot"
   ]
  },
  {
   "cell_type": "code",
   "execution_count": 31,
   "metadata": {},
   "outputs": [
    {
     "data": {
      "image/png": "[encoded data removed]",
      "text/plain": [
       "<Figure size 432x288 with 1 Axes>"
      ]
     },
     "metadata": {
      "needs_background": "light"
     },
     "output_type": "display_data"
    }
   ],
   "source": [
    "# Generate scatter plot\n",
    "x = updatedWeatherDF['Latitude']\n",
    "y = updatedWeatherDF['Cloudiness']\n",
    "plt.scatter(x,y)\n",
    "plt.grid()\n",
    "\n",
    "# Add labels\n",
    "plt.title(f\"City Latitude vs. Cloudiness (07/26/2022)\")\n",
    "plt.xlabel(\"Latitude\")\n",
    "plt.ylabel(\"Cloudiness (%)\")\n",
    "\n",
    "plt.savefig('../output_data/City Latitude vs. Cloudiness.png')\n",
    "plt.show()"
   ]
  },
  {
   "cell_type": "markdown",
   "metadata": {},
   "source": [
    "This plot shows latitude vs. cloudiness."
   ]
  },
  {
   "cell_type": "markdown",
   "metadata": {},
   "source": [
    "## Latitude vs. Wind Speed Plot"
   ]
  },
  {
   "cell_type": "code",
   "execution_count": 32,
   "metadata": {},
   "outputs": [
    {
     "data": {
      "image/png": "[encoded data removed]",
      "text/plain": [
       "<Figure size 432x288 with 1 Axes>"
      ]
     },
     "metadata": {
      "needs_background": "light"
     },
     "output_type": "display_data"
    }
   ],
   "source": [
    "# Generate scatter plot\n",
    "x = updatedWeatherDF['Latitude']\n",
    "y = updatedWeatherDF['Windspeed']\n",
    "plt.scatter(x,y)\n",
    "plt.grid()\n",
    "\n",
    "# Add labels\n",
    "plt.title(f\"City Latitude vs. Wind Speed (07/26/2022)\")\n",
    "plt.xlabel(\"Latitude\")\n",
    "plt.ylabel(\"Wind Speed (mph)\")\n",
    "\n",
    "plt.savefig('../output_data/City Latitude vs. Wind Speed.png')\n",
    "plt.show()"
   ]
  },
  {
   "cell_type": "markdown",
   "metadata": {},
   "source": [
    "This plot shows latitude vs. wind speed."
   ]
  },
  {
   "cell_type": "markdown",
   "metadata": {},
   "source": [
    "## Linear Regression"
   ]
  },
  {
   "cell_type": "code",
   "execution_count": 34,
   "metadata": {},
   "outputs": [],
   "source": [
    "# Split up the data into northern and southern hemispheres\n",
    "northernDF = updatedWeatherDF.loc[updatedWeatherDF[\"Latitude\"] > 0]\n",
    "southernDF = updatedWeatherDF.loc[updatedWeatherDF[\"Latitude\"] < 0]"
   ]
  },
  {
   "cell_type": "markdown",
   "metadata": {},
   "source": [
    "####  Northern Hemisphere - Max Temp vs. Latitude Linear Regression"
   ]
  },
  {
   "cell_type": "code",
   "execution_count": 40,
   "metadata": {},
   "outputs": [
    {
     "name": "stdout",
     "output_type": "stream",
     "text": [
      "The r-value is -0.6591220827926727\n"
     ]
    },
    {
     "data": {
      "image/png": "[encoded data removed]",
      "text/plain": [
       "<Figure size 432x288 with 1 Axes>"
      ]
     },
     "metadata": {
      "needs_background": "light"
     },
     "output_type": "display_data"
    }
   ],
   "source": [
    "x_values = northernDF[\"Latitude\"]\n",
    "y_values = northernDF[\"Temperature\"]\n",
    "\n",
    "(slope, intercept, rvalue, pvalue, stderr) = linregress(x_values, y_values)\n",
    "regress_values = x_values * slope + intercept\n",
    "line_eq = \"y = \" + str(round(slope,2)) + \"x + \" + str(round(intercept,2))\n",
    "plt.scatter(x_values,y_values)\n",
    "plt.plot(x_values,regress_values,\"r-\")\n",
    "\n",
    "# Add labels\n",
    "plt.annotate(line_eq,(10,40),fontsize=15,color=\"red\")\n",
    "plt.xlabel('Latitude')\n",
    "plt.ylabel('Max Temp (F)')\n",
    "plt.title('Northern Hemisphere - Max Temp vs. Latitude Linear Regression')\n",
    "\n",
    "# Create the linear regression plot and output to a .PNG file\n",
    "print(f'The r-value is {rvalue}')\n",
    "plt.savefig('../output_data/Northern Hemisphere - Max Temp vs. Latitude Linear Regression.png')\n",
    "plt.show()"
   ]
  },
  {
   "cell_type": "markdown",
   "metadata": {},
   "source": [
    "####  Southern Hemisphere - Max Temp vs. Latitude Linear Regression"
   ]
  },
  {
   "cell_type": "code",
   "execution_count": 41,
   "metadata": {},
   "outputs": [
    {
     "name": "stdout",
     "output_type": "stream",
     "text": [
      "The r-value is 0.7685752107775966\n"
     ]
    },
    {
     "data": {
      "image/png": "[encoded data removed]",
      "text/plain": [
       "<Figure size 432x288 with 1 Axes>"
      ]
     },
     "metadata": {
      "needs_background": "light"
     },
     "output_type": "display_data"
    }
   ],
   "source": [
    "x_values = southernDF[\"Latitude\"]\n",
    "y_values = southernDF[\"Temperature\"]\n",
    "\n",
    "(slope, intercept, rvalue, pvalue, stderr) = linregress(x_values, y_values)\n",
    "regress_values = x_values * slope + intercept\n",
    "line_eq = \"y = \" + str(round(slope,2)) + \"x + \" + str(round(intercept,2))\n",
    "plt.scatter(x_values,y_values)\n",
    "plt.plot(x_values,regress_values,\"r-\")\n",
    "\n",
    "# Add labels\n",
    "plt.annotate(line_eq,(-50,90),fontsize=15,color=\"red\")\n",
    "plt.xlabel('Latitude')\n",
    "plt.ylabel('Max Temp (F)')\n",
    "plt.title('Southern Hemisphere - Max Temp vs. Latitude Linear Regression')\n",
    "\n",
    "# Create the linear regression plot and output to a .PNG file\n",
    "print(f'The r-value is {rvalue}')\n",
    "plt.savefig('../output_data/Southern Hemisphere - Max Temp vs. Latitude Linear Regression.png')\n",
    "plt.show()"
   ]
  },
  {
   "cell_type": "markdown",
   "metadata": {},
   "source": [
    "These two plots show the relationship between latitude and max temperatures in the northern and southern hemispheres. There is a relatively strong correlation between max temperatures and latitude. It appears that temperatures increase as the latitude approaches 0 degrees Fahrenheit."
   ]
  },
  {
   "cell_type": "markdown",
   "metadata": {},
   "source": [
    "####  Northern Hemisphere - Humidity (%) vs. Latitude Linear Regression"
   ]
  },
  {
   "cell_type": "code",
   "execution_count": 42,
   "metadata": {},
   "outputs": [
    {
     "name": "stdout",
     "output_type": "stream",
     "text": [
      "The r-value is 0.0852798055312754\n"
     ]
    },
    {
     "data": {
      "image/png": "[encoded data removed]",
      "text/plain": [
       "<Figure size 432x288 with 1 Axes>"
      ]
     },
     "metadata": {
      "needs_background": "light"
     },
     "output_type": "display_data"
    }
   ],
   "source": [
    "x_values = northernDF[\"Latitude\"]\n",
    "y_values = northernDF[\"Humidity\"]\n",
    "\n",
    "(slope, intercept, rvalue, pvalue, stderr) = linregress(x_values, y_values)\n",
    "regress_values = x_values * slope + intercept\n",
    "line_eq = \"y = \" + str(round(slope,2)) + \"x + \" + str(round(intercept,2))\n",
    "plt.scatter(x_values,y_values)\n",
    "plt.plot(x_values,regress_values,\"r-\")\n",
    "\n",
    "# Add labels\n",
    "plt.annotate(line_eq,(50,20),fontsize=15,color=\"red\")\n",
    "plt.xlabel('Latitude')\n",
    "plt.ylabel('Humidity (%)')\n",
    "plt.title('Northern Hemisphere - Humidity vs. Latitude Linear Regression')\n",
    "\n",
    "# Create the linear regression plot and output to a .PNG file\n",
    "print(f'The r-value is {rvalue}')\n",
    "plt.savefig('../output_data/Northern Hemisphere - Humidity vs. Latitude Linear Regression.png')\n",
    "plt.show()"
   ]
  },
  {
   "cell_type": "markdown",
   "metadata": {},
   "source": [
    "####  Southern Hemisphere - Humidity (%) vs. Latitude Linear Regression"
   ]
  },
  {
   "cell_type": "code",
   "execution_count": 43,
   "metadata": {},
   "outputs": [
    {
     "name": "stdout",
     "output_type": "stream",
     "text": [
      "The r-value is -0.2326694055486868\n"
     ]
    },
    {
     "data": {
      "image/png": "[encoded data removed]",
      "text/plain": [
       "<Figure size 432x288 with 1 Axes>"
      ]
     },
     "metadata": {
      "needs_background": "light"
     },
     "output_type": "display_data"
    }
   ],
   "source": [
    "x_values = southernDF[\"Latitude\"]\n",
    "y_values = southernDF[\"Humidity\"]\n",
    "\n",
    "(slope, intercept, rvalue, pvalue, stderr) = linregress(x_values, y_values)\n",
    "regress_values = x_values * slope + intercept\n",
    "line_eq = \"y = \" + str(round(slope,2)) + \"x + \" + str(round(intercept,2))\n",
    "plt.scatter(x_values,y_values)\n",
    "plt.plot(x_values,regress_values,\"r-\")\n",
    "\n",
    "# Add labels\n",
    "plt.annotate(line_eq,(-50,30),fontsize=15,color=\"red\")\n",
    "plt.xlabel('Latitude')\n",
    "plt.ylabel('Humidity (%)')\n",
    "plt.title('Southern Hemisphere - Humidity vs. Latitude Linear Regression')\n",
    "\n",
    "# Create the linear regression plot and output to a .PNG file\n",
    "print(f'The r-value is {rvalue}')\n",
    "plt.savefig('../output_data/Southern Hemisphere - Humidity vs. Latitude Linear Regression.png')\n",
    "plt.show()"
   ]
  },
  {
   "cell_type": "markdown",
   "metadata": {},
   "source": [
    "These two plots show the relationship between latitude and humidity in the northern and southern hemispheres. There is a relatively weak correlation between humidity and latitude."
   ]
  },
  {
   "cell_type": "markdown",
   "metadata": {},
   "source": [
    "####  Northern Hemisphere - Cloudiness (%) vs. Latitude Linear Regression"
   ]
  },
  {
   "cell_type": "code",
   "execution_count": 44,
   "metadata": {},
   "outputs": [
    {
     "name": "stdout",
     "output_type": "stream",
     "text": [
      "The r-value is -0.030614557142736455\n"
     ]
    },
    {
     "data": {
      "image/png": "[encoded data removed]",
      "text/plain": [
       "<Figure size 432x288 with 1 Axes>"
      ]
     },
     "metadata": {
      "needs_background": "light"
     },
     "output_type": "display_data"
    }
   ],
   "source": [
    "x_values = northernDF[\"Latitude\"]\n",
    "y_values = northernDF[\"Cloudiness\"]\n",
    "\n",
    "(slope, intercept, rvalue, pvalue, stderr) = linregress(x_values, y_values)\n",
    "regress_values = x_values * slope + intercept\n",
    "line_eq = \"y = \" + str(round(slope,2)) + \"x + \" + str(round(intercept,2))\n",
    "plt.scatter(x_values,y_values)\n",
    "plt.plot(x_values,regress_values,\"r-\")\n",
    "\n",
    "# Add labels\n",
    "plt.annotate(line_eq,(10,30),fontsize=15,color=\"red\")\n",
    "plt.xlabel('Latitude')\n",
    "plt.ylabel('Cloudiness (%)')\n",
    "plt.title('Northern Hemisphere - Cloudiness vs. Latitude Linear Regression')\n",
    "\n",
    "# Create the linear regression plot and output to a .PNG file\n",
    "print(f'The r-value is {rvalue}')\n",
    "plt.savefig('../output_data/Northern Hemisphere - Cloudiness vs. Latitude Linear Regression.png')\n",
    "plt.show()"
   ]
  },
  {
   "cell_type": "markdown",
   "metadata": {},
   "source": [
    "####  Southern Hemisphere - Cloudiness (%) vs. Latitude Linear Regression"
   ]
  },
  {
   "cell_type": "code",
   "execution_count": 45,
   "metadata": {},
   "outputs": [
    {
     "name": "stdout",
     "output_type": "stream",
     "text": [
      "The r-value is 0.11225586821773956\n"
     ]
    },
    {
     "data": {
      "image/png": "[encoded data removed]",
      "text/plain": [
       "<Figure size 432x288 with 1 Axes>"
      ]
     },
     "metadata": {
      "needs_background": "light"
     },
     "output_type": "display_data"
    }
   ],
   "source": [
    "x_values = southernDF[\"Latitude\"]\n",
    "y_values = southernDF[\"Cloudiness\"]\n",
    "\n",
    "(slope, intercept, rvalue, pvalue, stderr) = linregress(x_values, y_values)\n",
    "regress_values = x_values * slope + intercept\n",
    "line_eq = \"y = \" + str(round(slope,2)) + \"x + \" + str(round(intercept,2))\n",
    "plt.scatter(x_values,y_values)\n",
    "plt.plot(x_values,regress_values,\"r-\")\n",
    "\n",
    "# Add labels\n",
    "plt.annotate(line_eq,(-50,30),fontsize=15,color=\"red\")\n",
    "plt.xlabel('Latitude')\n",
    "plt.ylabel('Cloudiness (%)')\n",
    "plt.title('Southern Hemisphere - Cloudiness vs. Latitude Linear Regression')\n",
    "\n",
    "# Create the linear regression plot and output to a .PNG file\n",
    "print(f'The r-value is {rvalue}')\n",
    "plt.savefig('../output_data/Southern Hemisphere - Cloudiness vs. Latitude Linear Regression.png')\n",
    "plt.show()"
   ]
  },
  {
   "cell_type": "markdown",
   "metadata": {},
   "source": [
    "These two plots show the relationship between latitude and cloudiness in the northern and southern hemispheres. There is a relatively weak correlation between cloudiness and latitude."
   ]
  },
  {
   "cell_type": "markdown",
   "metadata": {},
   "source": [
    "####  Northern Hemisphere - Wind Speed (mph) vs. Latitude Linear Regression"
   ]
  },
  {
   "cell_type": "code",
   "execution_count": 47,
   "metadata": {},
   "outputs": [
    {
     "name": "stdout",
     "output_type": "stream",
     "text": [
      "The r-value is 0.008161680984543618\n"
     ]
    },
    {
     "data": {
      "image/png": "[encoded data removed]",
      "text/plain": [
       "<Figure size 432x288 with 1 Axes>"
      ]
     },
     "metadata": {
      "needs_background": "light"
     },
     "output_type": "display_data"
    }
   ],
   "source": [
    "x_values = northernDF[\"Latitude\"]\n",
    "y_values = northernDF[\"Windspeed\"]\n",
    "\n",
    "(slope, intercept, rvalue, pvalue, stderr) = linregress(x_values, y_values)\n",
    "regress_values = x_values * slope + intercept\n",
    "line_eq = \"y = \" + str(round(slope,2)) + \"x + \" + str(round(intercept,2))\n",
    "plt.scatter(x_values,y_values)\n",
    "plt.plot(x_values,regress_values,\"r-\")\n",
    "\n",
    "# Add labels\n",
    "plt.annotate(line_eq,(10,25),fontsize=15,color=\"red\")\n",
    "plt.xlabel('Latitude')\n",
    "plt.ylabel('Wind Speed (mph)')\n",
    "plt.title('Northern Hemisphere - Wind Speed vs. Latitude Linear Regression')\n",
    "\n",
    "# Create the linear regression plot and output to a .PNG file\n",
    "print(f'The r-value is {rvalue}')\n",
    "plt.savefig('../output_data/Northern Hemisphere - Wind Speed vs. Latitude Linear Regression.png')\n",
    "plt.show()"
   ]
  },
  {
   "cell_type": "markdown",
   "metadata": {},
   "source": [
    "####  Southern Hemisphere - Wind Speed (mph) vs. Latitude Linear Regression"
   ]
  },
  {
   "cell_type": "code",
   "execution_count": 49,
   "metadata": {},
   "outputs": [
    {
     "name": "stdout",
     "output_type": "stream",
     "text": [
      "The r-value is -0.1977642168627299\n"
     ]
    },
    {
     "data": {
      "image/png": "[encoded data removed]",
      "text/plain": [
       "<Figure size 432x288 with 1 Axes>"
      ]
     },
     "metadata": {
      "needs_background": "light"
     },
     "output_type": "display_data"
    }
   ],
   "source": [
    "x_values = southernDF[\"Latitude\"]\n",
    "y_values = southernDF[\"Windspeed\"]\n",
    "\n",
    "(slope, intercept, rvalue, pvalue, stderr) = linregress(x_values, y_values)\n",
    "regress_values = x_values * slope + intercept\n",
    "line_eq = \"y = \" + str(round(slope,2)) + \"x + \" + str(round(intercept,2))\n",
    "plt.scatter(x_values,y_values)\n",
    "plt.plot(x_values,regress_values,\"r-\")\n",
    "\n",
    "# Add labels\n",
    "plt.annotate(line_eq,(-50,20),fontsize=15,color=\"red\")\n",
    "plt.xlabel('Latitude')\n",
    "plt.ylabel('Wind Speed (mph)')\n",
    "plt.title('Southern Hemisphere - Wind Speed vs. Latitude Linear Regression')\n",
    "\n",
    "# Create the linear regression plot and output to a .PNG file\n",
    "print(f'The r-value is {rvalue}')\n",
    "plt.savefig('../output_data/Southern Hemisphere - Wind Speed vs. Latitude Linear Regression.png')\n",
    "plt.show()"
   ]
  },
  {
   "cell_type": "markdown",
   "metadata": {},
   "source": [
    "These two plots show the relationship between latitude and wind speed in the northern and southern hemispheres. There is a relatively weak correlation between wind speed and latitude."
   ]
  }
 ],
 "metadata": {
  "anaconda-cloud": {},
  "kernel_info": {
   "name": "python3"
  },
  "kernelspec": {
   "display_name": "Python 3 (ipykernel)",
   "language": "python",
   "name": "python3"
  },
  "language_info": {
   "codemirror_mode": {
    "name": "ipython",
    "version": 3
   },
   "file_extension": ".py",
   "mimetype": "text/x-python",
   "name": "python",
   "nbconvert_exporter": "python",
   "pygments_lexer": "ipython3",
   "version": "3.9.12"
  },
  "latex_envs": {
   "LaTeX_envs_menu_present": true,
   "autoclose": false,
   "autocomplete": true,
   "bibliofile": "biblio.bib",
   "cite_by": "apalike",
   "current_citInitial": 1,
   "eqLabelWithNumbers": true,
   "eqNumInitial": 1,
   "hotkeys": {
    "equation": "Ctrl-E",
    "itemize": "Ctrl-I"
   },
   "labels_anchors": false,
   "latex_user_defs": false,
   "report_style_numbering": false,
   "user_envs_cfg": false
  },
  "nteract": {
   "version": "0.12.3"
  }
 },
 "nbformat": 4,
 "nbformat_minor": 2
}
